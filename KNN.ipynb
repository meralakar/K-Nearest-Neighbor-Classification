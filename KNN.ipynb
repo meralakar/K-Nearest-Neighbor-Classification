{
 "cells": [
  {
   "cell_type": "code",
   "execution_count": 1,
   "metadata": {},
   "outputs": [],
   "source": [
    "import pandas as  pd\n",
    "import numpy as np \n",
    "import matplotlib.pyplot as plt \n",
    "import seaborn as sns\n"
   ]
  },
  {
   "cell_type": "code",
   "execution_count": 2,
   "metadata": {},
   "outputs": [
    {
     "data": {
      "text/html": [
       "<div>\n",
       "<style scoped>\n",
       "    .dataframe tbody tr th:only-of-type {\n",
       "        vertical-align: middle;\n",
       "    }\n",
       "\n",
       "    .dataframe tbody tr th {\n",
       "        vertical-align: top;\n",
       "    }\n",
       "\n",
       "    .dataframe thead th {\n",
       "        text-align: right;\n",
       "    }\n",
       "</style>\n",
       "<table border=\"1\" class=\"dataframe\">\n",
       "  <thead>\n",
       "    <tr style=\"text-align: right;\">\n",
       "      <th></th>\n",
       "      <th>user_id</th>\n",
       "      <th>item_id</th>\n",
       "      <th>rating</th>\n",
       "      <th>timestamp</th>\n",
       "    </tr>\n",
       "  </thead>\n",
       "  <tbody>\n",
       "    <tr>\n",
       "      <td>0</td>\n",
       "      <td>196</td>\n",
       "      <td>242</td>\n",
       "      <td>3</td>\n",
       "      <td>881250949</td>\n",
       "    </tr>\n",
       "    <tr>\n",
       "      <td>1</td>\n",
       "      <td>186</td>\n",
       "      <td>302</td>\n",
       "      <td>3</td>\n",
       "      <td>891717742</td>\n",
       "    </tr>\n",
       "    <tr>\n",
       "      <td>2</td>\n",
       "      <td>22</td>\n",
       "      <td>377</td>\n",
       "      <td>1</td>\n",
       "      <td>878887116</td>\n",
       "    </tr>\n",
       "    <tr>\n",
       "      <td>3</td>\n",
       "      <td>244</td>\n",
       "      <td>51</td>\n",
       "      <td>2</td>\n",
       "      <td>880606923</td>\n",
       "    </tr>\n",
       "    <tr>\n",
       "      <td>4</td>\n",
       "      <td>166</td>\n",
       "      <td>346</td>\n",
       "      <td>1</td>\n",
       "      <td>886397596</td>\n",
       "    </tr>\n",
       "  </tbody>\n",
       "</table>\n",
       "</div>"
      ],
      "text/plain": [
       "   user_id  item_id  rating  timestamp\n",
       "0      196      242       3  881250949\n",
       "1      186      302       3  891717742\n",
       "2       22      377       1  878887116\n",
       "3      244       51       2  880606923\n",
       "4      166      346       1  886397596"
      ]
     },
     "execution_count": 2,
     "metadata": {},
     "output_type": "execute_result"
    }
   ],
   "source": [
    "data_U=pd.read_csv('u.data' ,sep='\\t' , names=['user_id','item_id','rating','timestamp'])\n",
    "data_U.head()\n"
   ]
  },
  {
   "cell_type": "code",
   "execution_count": 3,
   "metadata": {},
   "outputs": [
    {
     "data": {
      "text/html": [
       "<div>\n",
       "<style scoped>\n",
       "    .dataframe tbody tr th:only-of-type {\n",
       "        vertical-align: middle;\n",
       "    }\n",
       "\n",
       "    .dataframe tbody tr th {\n",
       "        vertical-align: top;\n",
       "    }\n",
       "\n",
       "    .dataframe thead th {\n",
       "        text-align: right;\n",
       "    }\n",
       "</style>\n",
       "<table border=\"1\" class=\"dataframe\">\n",
       "  <thead>\n",
       "    <tr style=\"text-align: right;\">\n",
       "      <th></th>\n",
       "      <th>user_id</th>\n",
       "      <th>age</th>\n",
       "      <th>gender</th>\n",
       "      <th>occupation</th>\n",
       "      <th>Zip_Code</th>\n",
       "    </tr>\n",
       "  </thead>\n",
       "  <tbody>\n",
       "    <tr>\n",
       "      <td>0</td>\n",
       "      <td>1</td>\n",
       "      <td>24</td>\n",
       "      <td>M</td>\n",
       "      <td>technician</td>\n",
       "      <td>85711</td>\n",
       "    </tr>\n",
       "    <tr>\n",
       "      <td>1</td>\n",
       "      <td>2</td>\n",
       "      <td>53</td>\n",
       "      <td>F</td>\n",
       "      <td>other</td>\n",
       "      <td>94043</td>\n",
       "    </tr>\n",
       "    <tr>\n",
       "      <td>2</td>\n",
       "      <td>3</td>\n",
       "      <td>23</td>\n",
       "      <td>M</td>\n",
       "      <td>writer</td>\n",
       "      <td>32067</td>\n",
       "    </tr>\n",
       "    <tr>\n",
       "      <td>3</td>\n",
       "      <td>4</td>\n",
       "      <td>24</td>\n",
       "      <td>M</td>\n",
       "      <td>technician</td>\n",
       "      <td>43537</td>\n",
       "    </tr>\n",
       "    <tr>\n",
       "      <td>4</td>\n",
       "      <td>5</td>\n",
       "      <td>33</td>\n",
       "      <td>F</td>\n",
       "      <td>other</td>\n",
       "      <td>15213</td>\n",
       "    </tr>\n",
       "  </tbody>\n",
       "</table>\n",
       "</div>"
      ],
      "text/plain": [
       "   user_id  age gender  occupation Zip_Code\n",
       "0        1   24      M  technician    85711\n",
       "1        2   53      F       other    94043\n",
       "2        3   23      M      writer    32067\n",
       "3        4   24      M  technician    43537\n",
       "4        5   33      F       other    15213"
      ]
     },
     "execution_count": 3,
     "metadata": {},
     "output_type": "execute_result"
    }
   ],
   "source": [
    "data_user=pd.read_csv('u.user',sep='|',names=['user_id','age','gender','occupation','Zip_Code'])\n",
    "data_user.head()\n"
   ]
  },
  {
   "cell_type": "code",
   "execution_count": 4,
   "metadata": {},
   "outputs": [
    {
     "data": {
      "text/html": [
       "<div>\n",
       "<style scoped>\n",
       "    .dataframe tbody tr th:only-of-type {\n",
       "        vertical-align: middle;\n",
       "    }\n",
       "\n",
       "    .dataframe tbody tr th {\n",
       "        vertical-align: top;\n",
       "    }\n",
       "\n",
       "    .dataframe thead th {\n",
       "        text-align: right;\n",
       "    }\n",
       "</style>\n",
       "<table border=\"1\" class=\"dataframe\">\n",
       "  <thead>\n",
       "    <tr style=\"text-align: right;\">\n",
       "      <th></th>\n",
       "      <th>movie_id</th>\n",
       "      <th>movie_title</th>\n",
       "      <th>release date</th>\n",
       "      <th>video_release_date</th>\n",
       "      <th>IMDb_URL</th>\n",
       "      <th>unknown</th>\n",
       "      <th>Action</th>\n",
       "      <th>Adventure</th>\n",
       "      <th>Animation</th>\n",
       "      <th>Childrens</th>\n",
       "      <th>...</th>\n",
       "      <th>Film-Noir</th>\n",
       "      <th>Horror</th>\n",
       "      <th>Musical</th>\n",
       "      <th>Mystery</th>\n",
       "      <th>Romance</th>\n",
       "      <th>Sci-Fi</th>\n",
       "      <th>Thriller</th>\n",
       "      <th>War</th>\n",
       "      <th>Western</th>\n",
       "      <th>item_id</th>\n",
       "    </tr>\n",
       "  </thead>\n",
       "  <tbody>\n",
       "    <tr>\n",
       "      <td>0</td>\n",
       "      <td>1</td>\n",
       "      <td>Toy Story (1995)</td>\n",
       "      <td>01-Jan-1995</td>\n",
       "      <td>NaN</td>\n",
       "      <td>http://us.imdb.com/M/title-exact?Toy%20Story%2...</td>\n",
       "      <td>0</td>\n",
       "      <td>0</td>\n",
       "      <td>0</td>\n",
       "      <td>1</td>\n",
       "      <td>1</td>\n",
       "      <td>...</td>\n",
       "      <td>0</td>\n",
       "      <td>0</td>\n",
       "      <td>0</td>\n",
       "      <td>0</td>\n",
       "      <td>0</td>\n",
       "      <td>0</td>\n",
       "      <td>0</td>\n",
       "      <td>0</td>\n",
       "      <td>0</td>\n",
       "      <td>1</td>\n",
       "    </tr>\n",
       "    <tr>\n",
       "      <td>1</td>\n",
       "      <td>2</td>\n",
       "      <td>GoldenEye (1995)</td>\n",
       "      <td>01-Jan-1995</td>\n",
       "      <td>NaN</td>\n",
       "      <td>http://us.imdb.com/M/title-exact?GoldenEye%20(...</td>\n",
       "      <td>0</td>\n",
       "      <td>1</td>\n",
       "      <td>1</td>\n",
       "      <td>0</td>\n",
       "      <td>0</td>\n",
       "      <td>...</td>\n",
       "      <td>0</td>\n",
       "      <td>0</td>\n",
       "      <td>0</td>\n",
       "      <td>0</td>\n",
       "      <td>0</td>\n",
       "      <td>0</td>\n",
       "      <td>1</td>\n",
       "      <td>0</td>\n",
       "      <td>0</td>\n",
       "      <td>2</td>\n",
       "    </tr>\n",
       "    <tr>\n",
       "      <td>2</td>\n",
       "      <td>3</td>\n",
       "      <td>Four Rooms (1995)</td>\n",
       "      <td>01-Jan-1995</td>\n",
       "      <td>NaN</td>\n",
       "      <td>http://us.imdb.com/M/title-exact?Four%20Rooms%...</td>\n",
       "      <td>0</td>\n",
       "      <td>0</td>\n",
       "      <td>0</td>\n",
       "      <td>0</td>\n",
       "      <td>0</td>\n",
       "      <td>...</td>\n",
       "      <td>0</td>\n",
       "      <td>0</td>\n",
       "      <td>0</td>\n",
       "      <td>0</td>\n",
       "      <td>0</td>\n",
       "      <td>0</td>\n",
       "      <td>1</td>\n",
       "      <td>0</td>\n",
       "      <td>0</td>\n",
       "      <td>3</td>\n",
       "    </tr>\n",
       "    <tr>\n",
       "      <td>3</td>\n",
       "      <td>4</td>\n",
       "      <td>Get Shorty (1995)</td>\n",
       "      <td>01-Jan-1995</td>\n",
       "      <td>NaN</td>\n",
       "      <td>http://us.imdb.com/M/title-exact?Get%20Shorty%...</td>\n",
       "      <td>0</td>\n",
       "      <td>1</td>\n",
       "      <td>0</td>\n",
       "      <td>0</td>\n",
       "      <td>0</td>\n",
       "      <td>...</td>\n",
       "      <td>0</td>\n",
       "      <td>0</td>\n",
       "      <td>0</td>\n",
       "      <td>0</td>\n",
       "      <td>0</td>\n",
       "      <td>0</td>\n",
       "      <td>0</td>\n",
       "      <td>0</td>\n",
       "      <td>0</td>\n",
       "      <td>4</td>\n",
       "    </tr>\n",
       "    <tr>\n",
       "      <td>4</td>\n",
       "      <td>5</td>\n",
       "      <td>Copycat (1995)</td>\n",
       "      <td>01-Jan-1995</td>\n",
       "      <td>NaN</td>\n",
       "      <td>http://us.imdb.com/M/title-exact?Copycat%20(1995)</td>\n",
       "      <td>0</td>\n",
       "      <td>0</td>\n",
       "      <td>0</td>\n",
       "      <td>0</td>\n",
       "      <td>0</td>\n",
       "      <td>...</td>\n",
       "      <td>0</td>\n",
       "      <td>0</td>\n",
       "      <td>0</td>\n",
       "      <td>0</td>\n",
       "      <td>0</td>\n",
       "      <td>0</td>\n",
       "      <td>1</td>\n",
       "      <td>0</td>\n",
       "      <td>0</td>\n",
       "      <td>5</td>\n",
       "    </tr>\n",
       "  </tbody>\n",
       "</table>\n",
       "<p>5 rows × 25 columns</p>\n",
       "</div>"
      ],
      "text/plain": [
       "   movie_id        movie_title release date  video_release_date  \\\n",
       "0         1   Toy Story (1995)  01-Jan-1995                 NaN   \n",
       "1         2   GoldenEye (1995)  01-Jan-1995                 NaN   \n",
       "2         3  Four Rooms (1995)  01-Jan-1995                 NaN   \n",
       "3         4  Get Shorty (1995)  01-Jan-1995                 NaN   \n",
       "4         5     Copycat (1995)  01-Jan-1995                 NaN   \n",
       "\n",
       "                                            IMDb_URL  unknown  Action  \\\n",
       "0  http://us.imdb.com/M/title-exact?Toy%20Story%2...        0       0   \n",
       "1  http://us.imdb.com/M/title-exact?GoldenEye%20(...        0       1   \n",
       "2  http://us.imdb.com/M/title-exact?Four%20Rooms%...        0       0   \n",
       "3  http://us.imdb.com/M/title-exact?Get%20Shorty%...        0       1   \n",
       "4  http://us.imdb.com/M/title-exact?Copycat%20(1995)        0       0   \n",
       "\n",
       "   Adventure  Animation  Childrens  ...  Film-Noir  Horror  Musical  Mystery  \\\n",
       "0          0          1          1  ...          0       0        0        0   \n",
       "1          1          0          0  ...          0       0        0        0   \n",
       "2          0          0          0  ...          0       0        0        0   \n",
       "3          0          0          0  ...          0       0        0        0   \n",
       "4          0          0          0  ...          0       0        0        0   \n",
       "\n",
       "   Romance  Sci-Fi  Thriller  War  Western  item_id  \n",
       "0        0       0         0    0        0        1  \n",
       "1        0       0         1    0        0        2  \n",
       "2        0       0         1    0        0        3  \n",
       "3        0       0         0    0        0        4  \n",
       "4        0       0         1    0        0        5  \n",
       "\n",
       "[5 rows x 25 columns]"
      ]
     },
     "execution_count": 4,
     "metadata": {},
     "output_type": "execute_result"
    }
   ],
   "source": [
    "data_item=pd.read_csv('u.item',sep='|',names=['movie_id','movie_title','release date','video_release_date', \n",
    "                                              'IMDb_URL','unknown','Action','Adventure','Animation', 'Childrens','Comedy',\n",
    "                                              'Crime', 'Documentary','Drama','Fantasy','Film-Noir','Horror','Musical','Mystery',\n",
    "                                             'Romance','Sci-Fi','Thriller','War','Western']) \n",
    "\n",
    "data_item['item_id']=data_item['movie_id']\n",
    "data_item.head()\n"
   ]
  },
  {
   "cell_type": "code",
   "execution_count": 5,
   "metadata": {},
   "outputs": [
    {
     "data": {
      "text/plain": [
       "Index(['user_id', 'item_id', 'rating', 'timestamp', 'movie_id', 'movie_title',\n",
       "       'release date', 'video_release_date', 'IMDb_URL', 'unknown', 'Action',\n",
       "       'Adventure', 'Animation', 'Childrens', 'Comedy', 'Crime', 'Documentary',\n",
       "       'Drama', 'Fantasy', 'Film-Noir', 'Horror', 'Musical', 'Mystery',\n",
       "       'Romance', 'Sci-Fi', 'Thriller', 'War', 'Western'],\n",
       "      dtype='object')"
      ]
     },
     "execution_count": 5,
     "metadata": {},
     "output_type": "execute_result"
    }
   ],
   "source": [
    "data_u_item=pd.merge(data_U, data_item, on='item_id') \n",
    "data_u_item.columns"
   ]
  },
  {
   "cell_type": "code",
   "execution_count": 6,
   "metadata": {},
   "outputs": [],
   "source": [
    "data_main=pd.merge(data_u_item,data_user)"
   ]
  },
  {
   "cell_type": "code",
   "execution_count": 7,
   "metadata": {},
   "outputs": [
    {
     "data": {
      "text/plain": [
       "(100000, 32)"
      ]
     },
     "execution_count": 7,
     "metadata": {},
     "output_type": "execute_result"
    }
   ],
   "source": [
    "data_main.shape"
   ]
  },
  {
   "cell_type": "code",
   "execution_count": 9,
   "metadata": {},
   "outputs": [
    {
     "name": "stdout",
     "output_type": "stream",
     "text": [
      "                                             user_id  item_id  rating  \\\n",
      "movie_title                                                             \n",
      "Daens (1992)                                     405     1565       1   \n",
      "Lotto Land (1995)                                181     1343       1   \n",
      "Bird of Prey (1996)                              181     1364       1   \n",
      "Liebelei (1933)                                  405     1580       1   \n",
      "Leopard Son, The (1996)                          181     1363       1   \n",
      "...                                              ...      ...     ...   \n",
      "Land and Freedom (Tierra y libertad) (1995)      655     1632       3   \n",
      "Crows and Sparrows (1949)                        388     2700       3   \n",
      "Fire on the Mountain (1996)                        7      677       3   \n",
      "Big One, The (1997)                              655     1649       3   \n",
      "Fear, The (1995)                                 314     1520       3   \n",
      "\n",
      "                                              timestamp  movie_id  \\\n",
      "movie_title                                                         \n",
      "Daens (1992)                                  885549463      1565   \n",
      "Lotto Land (1995)                             878962199      1343   \n",
      "Bird of Prey (1996)                           878962464      1364   \n",
      "Liebelei (1933)                               885549543      1580   \n",
      "Leopard Son, The (1996)                       878962279      1363   \n",
      "...                                                 ...       ...   \n",
      "Land and Freedom (Tierra y libertad) (1995)   888685759      1632   \n",
      "Crows and Sparrows (1949)                    1756840892      2700   \n",
      "Fire on the Mountain (1996)                   891354499       677   \n",
      "Big One, The (1997)                           892333993      1649   \n",
      "Fear, The (1995)                              877892052      1520   \n",
      "\n",
      "                                             video_release_date  unknown  \\\n",
      "movie_title                                                                \n",
      "Daens (1992)                                                0.0        0   \n",
      "Lotto Land (1995)                                           0.0        0   \n",
      "Bird of Prey (1996)                                         0.0        0   \n",
      "Liebelei (1933)                                             0.0        0   \n",
      "Leopard Son, The (1996)                                     0.0        0   \n",
      "...                                                         ...      ...   \n",
      "Land and Freedom (Tierra y libertad) (1995)                 0.0        0   \n",
      "Crows and Sparrows (1949)                                   0.0        0   \n",
      "Fire on the Mountain (1996)                                 0.0        0   \n",
      "Big One, The (1997)                                         0.0        0   \n",
      "Fear, The (1995)                                            0.0        0   \n",
      "\n",
      "                                             Action  Adventure  Animation  \\\n",
      "movie_title                                                                 \n",
      "Daens (1992)                                      0          0          0   \n",
      "Lotto Land (1995)                                 0          0          0   \n",
      "Bird of Prey (1996)                               1          0          0   \n",
      "Liebelei (1933)                                   0          0          0   \n",
      "Leopard Son, The (1996)                           0          0          0   \n",
      "...                                             ...        ...        ...   \n",
      "Land and Freedom (Tierra y libertad) (1995)       0          0          0   \n",
      "Crows and Sparrows (1949)                         0          0          0   \n",
      "Fire on the Mountain (1996)                       0          0          0   \n",
      "Big One, The (1997)                               0          0          0   \n",
      "Fear, The (1995)                                  0          0          0   \n",
      "\n",
      "                                             ...  Film-Noir  Horror  Musical  \\\n",
      "movie_title                                  ...                               \n",
      "Daens (1992)                                 ...          0       0        0   \n",
      "Lotto Land (1995)                            ...          0       0        0   \n",
      "Bird of Prey (1996)                          ...          0       0        0   \n",
      "Liebelei (1933)                              ...          0       0        0   \n",
      "Leopard Son, The (1996)                      ...          0       0        0   \n",
      "...                                          ...        ...     ...      ...   \n",
      "Land and Freedom (Tierra y libertad) (1995)  ...          0       0        0   \n",
      "Crows and Sparrows (1949)                    ...          0       0        0   \n",
      "Fire on the Mountain (1996)                  ...          0       0        0   \n",
      "Big One, The (1997)                          ...          0       0        0   \n",
      "Fear, The (1995)                             ...          0       1        0   \n",
      "\n",
      "                                             Mystery  Romance  Sci-Fi  \\\n",
      "movie_title                                                             \n",
      "Daens (1992)                                       0        0       0   \n",
      "Lotto Land (1995)                                  0        0       0   \n",
      "Bird of Prey (1996)                                0        0       0   \n",
      "Liebelei (1933)                                    0        1       0   \n",
      "Leopard Son, The (1996)                            0        0       0   \n",
      "...                                              ...      ...     ...   \n",
      "Land and Freedom (Tierra y libertad) (1995)        0        0       0   \n",
      "Crows and Sparrows (1949)                          0        0       0   \n",
      "Fire on the Mountain (1996)                        0        0       0   \n",
      "Big One, The (1997)                                0        0       0   \n",
      "Fear, The (1995)                                   0        0       0   \n",
      "\n",
      "                                             Thriller  War  Western  age  \n",
      "movie_title                                                               \n",
      "Daens (1992)                                        0    0        0   22  \n",
      "Lotto Land (1995)                                   0    0        0   26  \n",
      "Bird of Prey (1996)                                 0    0        0   26  \n",
      "Liebelei (1933)                                     0    0        0   22  \n",
      "Leopard Son, The (1996)                             0    0        0   26  \n",
      "...                                               ...  ...      ...  ...  \n",
      "Land and Freedom (Tierra y libertad) (1995)         0    1        0   50  \n",
      "Crows and Sparrows (1949)                           0    0        0   65  \n",
      "Fire on the Mountain (1996)                         0    0        0   57  \n",
      "Big One, The (1997)                                 0    0        0   50  \n",
      "Fear, The (1995)                                    0    0        0   20  \n",
      "\n",
      "[100 rows x 26 columns]\n"
     ]
    }
   ],
   "source": [
    "df=data_main.groupby('movie_title').sum()\n",
    "dh=df.sort_values(by='rating') \n",
    "dg=dh.head(100)\n",
    "print(dg)\n",
    "\n",
    "data_main.hist(column='age', bins=20)"
   ]
  },
  {
   "cell_type": "code",
   "execution_count": 20,
   "metadata": {},
   "outputs": [
    {
     "data": {
      "text/plain": [
       "array([[<matplotlib.axes._subplots.AxesSubplot object at 0x0000020C9C8E9BC8>]],\n",
       "      dtype=object)"
      ]
     },
     "execution_count": 20,
     "metadata": {},
     "output_type": "execute_result"
    },
    {
     "data": {
      "image/png": "[encoded data removed]",
      "text/plain": [
       "<Figure size 432x288 with 1 Axes>"
      ]
     },
     "metadata": {
      "needs_background": "light"
     },
     "output_type": "display_data"
    }
   ],
   "source": [
    "data_main.hist(column='rating', bins=20)"
   ]
  },
  {
   "cell_type": "code",
   "execution_count": 10,
   "metadata": {},
   "outputs": [
    {
     "data": {
      "text/plain": [
       "array([[<matplotlib.axes._subplots.AxesSubplot object at 0x0000020C9B5BC348>]],\n",
       "      dtype=object)"
      ]
     },
     "execution_count": 10,
     "metadata": {},
     "output_type": "execute_result"
    },
    {
     "data": {
      "image/png": "[encoded data removed]",
      "text/plain": [
       "<Figure size 432x288 with 1 Axes>"
      ]
     },
     "metadata": {
      "needs_background": "light"
     },
     "output_type": "display_data"
    }
   ],
   "source": [
    "data_main.hist(column='age', bins=20)"
   ]
  },
  {
   "cell_type": "code",
   "execution_count": 12,
   "metadata": {},
   "outputs": [],
   "source": [
    "from sklearn import preprocessing"
   ]
  },
  {
   "cell_type": "code",
   "execution_count": 14,
   "metadata": {},
   "outputs": [
    {
     "data": {
      "text/plain": [
       "array([[242,  49,   0,   0,   0,   0,   0,   1,   0,   0,   0,   0,   0,\n",
       "          0,   0,   0,   0,   0,   0,   0,   0],\n",
       "       [257,  49,   0,   1,   1,   0,   0,   1,   0,   0,   0,   0,   0,\n",
       "          0,   0,   0,   0,   1,   0,   0,   0],\n",
       "       [111,  49,   0,   0,   0,   0,   0,   1,   0,   0,   0,   0,   0,\n",
       "          0,   0,   0,   1,   0,   0,   0,   0],\n",
       "       [ 25,  49,   0,   0,   0,   0,   0,   1,   0,   0,   0,   0,   0,\n",
       "          0,   0,   0,   0,   0,   0,   0,   0],\n",
       "       [382,  49,   0,   0,   0,   0,   0,   1,   0,   0,   1,   0,   0,\n",
       "          0,   0,   0,   0,   0,   0,   0,   0],\n",
       "       [202,  49,   0,   0,   0,   0,   0,   1,   0,   0,   0,   0,   0,\n",
       "          0,   0,   0,   1,   0,   0,   0,   0],\n",
       "       [153,  49,   0,   0,   0,   0,   0,   1,   0,   0,   0,   0,   0,\n",
       "          0,   0,   0,   0,   0,   0,   0,   0],\n",
       "       [286,  49,   0,   0,   0,   0,   0,   0,   0,   0,   1,   0,   0,\n",
       "          0,   0,   0,   1,   0,   0,   1,   0],\n",
       "       [ 66,  49,   0,   0,   0,   0,   0,   1,   0,   0,   0,   0,   0,\n",
       "          0,   0,   0,   1,   0,   0,   0,   0],\n",
       "       [845,  49,   0,   0,   0,   0,   0,   1,   0,   0,   0,   0,   0,\n",
       "          0,   0,   0,   0,   0,   0,   0,   0]], dtype=int64)"
      ]
     },
     "execution_count": 14,
     "metadata": {},
     "output_type": "execute_result"
    }
   ],
   "source": [
    "X = data_main[['movie_id','age','unknown', 'Action',\n",
    "       'Adventure', 'Animation', 'Childrens', 'Comedy', 'Crime', 'Documentary',\n",
    "       'Drama', 'Fantasy', 'Film-Noir', 'Horror', 'Musical', 'Mystery',\n",
    "       'Romance', 'Sci-Fi', 'Thriller', 'War', 'Western']] .values  #.astype(float)\n",
    "X[0:10]\n",
    "\n",
    "\n"
   ]
  },
  {
   "cell_type": "code",
   "execution_count": 29,
   "metadata": {},
   "outputs": [
    {
     "data": {
      "text/html": [
       "<div>\n",
       "<style scoped>\n",
       "    .dataframe tbody tr th:only-of-type {\n",
       "        vertical-align: middle;\n",
       "    }\n",
       "\n",
       "    .dataframe tbody tr th {\n",
       "        vertical-align: top;\n",
       "    }\n",
       "\n",
       "    .dataframe thead th {\n",
       "        text-align: right;\n",
       "    }\n",
       "</style>\n",
       "<table border=\"1\" class=\"dataframe\">\n",
       "  <thead>\n",
       "    <tr style=\"text-align: right;\">\n",
       "      <th></th>\n",
       "      <th>user_id</th>\n",
       "      <th>item_id</th>\n",
       "      <th>rating</th>\n",
       "      <th>timestamp</th>\n",
       "      <th>movie_id</th>\n",
       "      <th>movie_title</th>\n",
       "      <th>release date</th>\n",
       "      <th>video_release_date</th>\n",
       "      <th>IMDb_URL</th>\n",
       "      <th>unknown</th>\n",
       "      <th>...</th>\n",
       "      <th>Romance</th>\n",
       "      <th>Sci-Fi</th>\n",
       "      <th>Thriller</th>\n",
       "      <th>War</th>\n",
       "      <th>Western</th>\n",
       "      <th>age</th>\n",
       "      <th>gender</th>\n",
       "      <th>occupation</th>\n",
       "      <th>Zip_Code</th>\n",
       "      <th>label</th>\n",
       "    </tr>\n",
       "  </thead>\n",
       "  <tbody>\n",
       "    <tr>\n",
       "      <td>0</td>\n",
       "      <td>196</td>\n",
       "      <td>242</td>\n",
       "      <td>3</td>\n",
       "      <td>881250949</td>\n",
       "      <td>242</td>\n",
       "      <td>Kolya (1996)</td>\n",
       "      <td>24-Jan-1997</td>\n",
       "      <td>NaN</td>\n",
       "      <td>http://us.imdb.com/M/title-exact?Kolya%20(1996)</td>\n",
       "      <td>0</td>\n",
       "      <td>...</td>\n",
       "      <td>0</td>\n",
       "      <td>0</td>\n",
       "      <td>0</td>\n",
       "      <td>0</td>\n",
       "      <td>0</td>\n",
       "      <td>49</td>\n",
       "      <td>M</td>\n",
       "      <td>writer</td>\n",
       "      <td>55105</td>\n",
       "      <td>0</td>\n",
       "    </tr>\n",
       "    <tr>\n",
       "      <td>1</td>\n",
       "      <td>196</td>\n",
       "      <td>257</td>\n",
       "      <td>2</td>\n",
       "      <td>881251577</td>\n",
       "      <td>257</td>\n",
       "      <td>Men in Black (1997)</td>\n",
       "      <td>04-Jul-1997</td>\n",
       "      <td>NaN</td>\n",
       "      <td>http://us.imdb.com/M/title-exact?Men+in+Black+...</td>\n",
       "      <td>0</td>\n",
       "      <td>...</td>\n",
       "      <td>0</td>\n",
       "      <td>1</td>\n",
       "      <td>0</td>\n",
       "      <td>0</td>\n",
       "      <td>0</td>\n",
       "      <td>49</td>\n",
       "      <td>M</td>\n",
       "      <td>writer</td>\n",
       "      <td>55105</td>\n",
       "      <td>0</td>\n",
       "    </tr>\n",
       "    <tr>\n",
       "      <td>2</td>\n",
       "      <td>196</td>\n",
       "      <td>111</td>\n",
       "      <td>4</td>\n",
       "      <td>881251793</td>\n",
       "      <td>111</td>\n",
       "      <td>Truth About Cats &amp; Dogs, The (1996)</td>\n",
       "      <td>26-Apr-1996</td>\n",
       "      <td>NaN</td>\n",
       "      <td>http://us.imdb.com/M/title-exact?Truth%20About...</td>\n",
       "      <td>0</td>\n",
       "      <td>...</td>\n",
       "      <td>1</td>\n",
       "      <td>0</td>\n",
       "      <td>0</td>\n",
       "      <td>0</td>\n",
       "      <td>0</td>\n",
       "      <td>49</td>\n",
       "      <td>M</td>\n",
       "      <td>writer</td>\n",
       "      <td>55105</td>\n",
       "      <td>1</td>\n",
       "    </tr>\n",
       "    <tr>\n",
       "      <td>3</td>\n",
       "      <td>196</td>\n",
       "      <td>25</td>\n",
       "      <td>4</td>\n",
       "      <td>881251955</td>\n",
       "      <td>25</td>\n",
       "      <td>Birdcage, The (1996)</td>\n",
       "      <td>08-Mar-1996</td>\n",
       "      <td>NaN</td>\n",
       "      <td>http://us.imdb.com/M/title-exact?Birdcage,%20T...</td>\n",
       "      <td>0</td>\n",
       "      <td>...</td>\n",
       "      <td>0</td>\n",
       "      <td>0</td>\n",
       "      <td>0</td>\n",
       "      <td>0</td>\n",
       "      <td>0</td>\n",
       "      <td>49</td>\n",
       "      <td>M</td>\n",
       "      <td>writer</td>\n",
       "      <td>55105</td>\n",
       "      <td>1</td>\n",
       "    </tr>\n",
       "    <tr>\n",
       "      <td>4</td>\n",
       "      <td>196</td>\n",
       "      <td>382</td>\n",
       "      <td>4</td>\n",
       "      <td>881251843</td>\n",
       "      <td>382</td>\n",
       "      <td>Adventures of Priscilla, Queen of the Desert, ...</td>\n",
       "      <td>01-Jan-1994</td>\n",
       "      <td>NaN</td>\n",
       "      <td>http://us.imdb.com/M/title-exact?Adventures%20...</td>\n",
       "      <td>0</td>\n",
       "      <td>...</td>\n",
       "      <td>0</td>\n",
       "      <td>0</td>\n",
       "      <td>0</td>\n",
       "      <td>0</td>\n",
       "      <td>0</td>\n",
       "      <td>49</td>\n",
       "      <td>M</td>\n",
       "      <td>writer</td>\n",
       "      <td>55105</td>\n",
       "      <td>1</td>\n",
       "    </tr>\n",
       "  </tbody>\n",
       "</table>\n",
       "<p>5 rows × 33 columns</p>\n",
       "</div>"
      ],
      "text/plain": [
       "   user_id  item_id  rating  timestamp  movie_id  \\\n",
       "0      196      242       3  881250949       242   \n",
       "1      196      257       2  881251577       257   \n",
       "2      196      111       4  881251793       111   \n",
       "3      196       25       4  881251955        25   \n",
       "4      196      382       4  881251843       382   \n",
       "\n",
       "                                         movie_title release date  \\\n",
       "0                                       Kolya (1996)  24-Jan-1997   \n",
       "1                                Men in Black (1997)  04-Jul-1997   \n",
       "2                Truth About Cats & Dogs, The (1996)  26-Apr-1996   \n",
       "3                               Birdcage, The (1996)  08-Mar-1996   \n",
       "4  Adventures of Priscilla, Queen of the Desert, ...  01-Jan-1994   \n",
       "\n",
       "   video_release_date                                           IMDb_URL  \\\n",
       "0                 NaN    http://us.imdb.com/M/title-exact?Kolya%20(1996)   \n",
       "1                 NaN  http://us.imdb.com/M/title-exact?Men+in+Black+...   \n",
       "2                 NaN  http://us.imdb.com/M/title-exact?Truth%20About...   \n",
       "3                 NaN  http://us.imdb.com/M/title-exact?Birdcage,%20T...   \n",
       "4                 NaN  http://us.imdb.com/M/title-exact?Adventures%20...   \n",
       "\n",
       "   unknown  ...  Romance  Sci-Fi  Thriller  War  Western  age  gender  \\\n",
       "0        0  ...        0       0         0    0        0   49       M   \n",
       "1        0  ...        0       1         0    0        0   49       M   \n",
       "2        0  ...        1       0         0    0        0   49       M   \n",
       "3        0  ...        0       0         0    0        0   49       M   \n",
       "4        0  ...        0       0         0    0        0   49       M   \n",
       "\n",
       "   occupation  Zip_Code  label  \n",
       "0      writer     55105      0  \n",
       "1      writer     55105      0  \n",
       "2      writer     55105      1  \n",
       "3      writer     55105      1  \n",
       "4      writer     55105      1  \n",
       "\n",
       "[5 rows x 33 columns]"
      ]
     },
     "execution_count": 29,
     "metadata": {},
     "output_type": "execute_result"
    }
   ],
   "source": [
    "data_main['label'] =[1  if i >3.5 else 0 for i in data_main.rating]\n",
    "\n",
    "data_main.head()"
   ]
  },
  {
   "cell_type": "code",
   "execution_count": 16,
   "metadata": {},
   "outputs": [
    {
     "data": {
      "text/plain": [
       "array([[-0.55481245,  1.3863835 , -0.0100005 , -0.58641907, -0.3993252 ,\n",
       "        -0.19338616, -0.27816763,  1.53365743, -0.29598433, -0.08739505,\n",
       "        -0.81471166, -0.11706962, -0.13279919, -0.23697216, -0.22830272,\n",
       "        -0.23527278, -0.49156331, -0.38192819, -0.52910382, -0.32206893,\n",
       "        -0.13744171],\n",
       "       [-0.50946738,  1.3863835 , -0.0100005 ,  1.70526514,  2.5042246 ,\n",
       "        -0.19338616, -0.27816763,  1.53365743, -0.29598433, -0.08739505,\n",
       "        -0.81471166, -0.11706962, -0.13279919, -0.23697216, -0.22830272,\n",
       "        -0.23527278, -0.49156331,  2.61829325, -0.52910382, -0.32206893,\n",
       "        -0.13744171],\n",
       "       [-0.95082607,  1.3863835 , -0.0100005 , -0.58641907, -0.3993252 ,\n",
       "        -0.19338616, -0.27816763,  1.53365743, -0.29598433, -0.08739505,\n",
       "        -0.81471166, -0.11706962, -0.13279919, -0.23697216, -0.22830272,\n",
       "        -0.23527278,  2.03432596, -0.38192819, -0.52910382, -0.32206893,\n",
       "        -0.13744171],\n",
       "       [-1.21080448,  1.3863835 , -0.0100005 , -0.58641907, -0.3993252 ,\n",
       "        -0.19338616, -0.27816763,  1.53365743, -0.29598433, -0.08739505,\n",
       "        -0.81471166, -0.11706962, -0.13279919, -0.23697216, -0.22830272,\n",
       "        -0.23527278, -0.49156331, -0.38192819, -0.52910382, -0.32206893,\n",
       "        -0.13744171],\n",
       "       [-0.13159179,  1.3863835 , -0.0100005 , -0.58641907, -0.3993252 ,\n",
       "        -0.19338616, -0.27816763,  1.53365743, -0.29598433, -0.08739505,\n",
       "         1.22742811, -0.11706962, -0.13279919, -0.23697216, -0.22830272,\n",
       "        -0.23527278, -0.49156331, -0.38192819, -0.52910382, -0.32206893,\n",
       "        -0.13744171]])"
      ]
     },
     "execution_count": 16,
     "metadata": {},
     "output_type": "execute_result"
    }
   ],
   "source": [
    "X = preprocessing.StandardScaler().fit(X).transform(X.astype(float)) #Z-skor normalizasyonu\n",
    "X[0:5]"
   ]
  },
  {
   "cell_type": "code",
   "execution_count": 30,
   "metadata": {},
   "outputs": [
    {
     "data": {
      "text/plain": [
       "array([0, 0, 1, 1, 1, 0, 1, 1, 0, 1], dtype=int64)"
      ]
     },
     "execution_count": 30,
     "metadata": {},
     "output_type": "execute_result"
    }
   ],
   "source": [
    "y = data_main['label'].values\n",
    "y[0:10]"
   ]
  },
  {
   "cell_type": "code",
   "execution_count": 31,
   "metadata": {},
   "outputs": [
    {
     "name": "stdout",
     "output_type": "stream",
     "text": [
      "Train set: (80000, 21) (80000,)\n",
      "Test set: (20000, 21) (20000,)\n"
     ]
    }
   ],
   "source": [
    "from sklearn.model_selection import train_test_split\n",
    "X_train, X_test, y_train, y_test = train_test_split( X, y, test_size=0.2, random_state=4)\n",
    "print ('Train set:', X_train.shape,  y_train.shape)\n",
    "print ('Test set:', X_test.shape,  y_test.shape)\n"
   ]
  },
  {
   "cell_type": "code",
   "execution_count": 32,
   "metadata": {},
   "outputs": [],
   "source": [
    "from sklearn.neighbors import KNeighborsClassifier"
   ]
  },
  {
   "cell_type": "code",
   "execution_count": 33,
   "metadata": {},
   "outputs": [
    {
     "data": {
      "text/plain": [
       "KNeighborsClassifier(algorithm='auto', leaf_size=30, metric='minkowski',\n",
       "                     metric_params=None, n_jobs=None, n_neighbors=1, p=2,\n",
       "                     weights='uniform')"
      ]
     },
     "execution_count": 33,
     "metadata": {},
     "output_type": "execute_result"
    }
   ],
   "source": [
    "k = 1\n",
    "#Train Model and Predict  \n",
    "neigh = KNeighborsClassifier(n_neighbors = k).fit(X_train,y_train)\n",
    "neigh"
   ]
  },
  {
   "cell_type": "code",
   "execution_count": 34,
   "metadata": {},
   "outputs": [
    {
     "data": {
      "text/plain": [
       "array([0, 0, 0, 1, 1], dtype=int64)"
      ]
     },
     "execution_count": 34,
     "metadata": {},
     "output_type": "execute_result"
    }
   ],
   "source": [
    "yhat = neigh.predict(X_test)\n",
    "yhat[0:5]"
   ]
  },
  {
   "cell_type": "code",
   "execution_count": 35,
   "metadata": {},
   "outputs": [
    {
     "name": "stdout",
     "output_type": "stream",
     "text": [
      "Train set Accuracy:  0.745275\n",
      "Test set Accuracy:  0.5835\n",
      "Train set Confusion Matrice:\n",
      " [[25611 10114]\n",
      " [10264 34011]]\n",
      "Test set Confusion Matrice:\n",
      " [[4770 4130]\n",
      " [4200 6900]]\n"
     ]
    }
   ],
   "source": [
    "from sklearn import metrics\n",
    "print(\"Train set Accuracy: \", metrics.accuracy_score(y_train, neigh.predict(X_train)))\n",
    "print(\"Test set Accuracy: \", metrics.accuracy_score(y_test, yhat))\n",
    "\n",
    "print(\"Train set Confusion Matrice:\\n\", metrics.confusion_matrix(y_train, neigh.predict(X_train)))\n",
    "print(\"Test set Confusion Matrice:\\n\", metrics.confusion_matrix(y_test, yhat))"
   ]
  },
  {
   "cell_type": "code",
   "execution_count": null,
   "metadata": {},
   "outputs": [],
   "source": []
  }
 ],
 "metadata": {
  "kernelspec": {
   "display_name": "Python 3",
   "language": "python",
   "name": "python3"
  },
  "language_info": {
   "codemirror_mode": {
    "name": "ipython",
    "version": 3
   },
   "file_extension": ".py",
   "mimetype": "text/x-python",
   "name": "python",
   "nbconvert_exporter": "python",
   "pygments_lexer": "ipython3",
   "version": "3.7.1"
  }
 },
 "nbformat": 4,
 "nbformat_minor": 2
}
